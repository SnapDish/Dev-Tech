{
 "cells": [
  {
   "cell_type": "markdown",
   "metadata": {},
   "source": []
  }
 ],
 "metadata": {
  "kernelspec": {
   "display_name": "Python 3",
   "language": "python",
   "name": "python3"
  },
  "language_info": {
   "codemirror_mode": {
    "name": "ipython",
    "version": 3
   },
   "file_extension": ".py",
   "mimetype": "text/x-python",
   "name": "python",
   "nbconvert_exporter": "python",
   "pygments_lexer": "ipython3",
   "version": "3.6.0"
  },
  "nikola": {
   "category": "",
   "date": "2018-07-24 16:33:43 UTC+09:00",
   "description": "",
   "link": "",
   "slug": "hello-world",
   "tags": "",
   "title": "Hello world !",
   "type": "text"
  }
 },
 "nbformat": 4,
 "nbformat_minor": 2
}
